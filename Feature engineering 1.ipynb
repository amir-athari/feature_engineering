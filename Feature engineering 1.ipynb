{
 "cells": [
  {
   "cell_type": "markdown",
   "metadata": {},
   "source": [
    "# The Analysis of Students Performance in Exams"
   ]
  },
  {
   "cell_type": "code",
   "execution_count": 107,
   "metadata": {},
   "outputs": [],
   "source": [
    "import pandas as pd\n",
    "import numpy as np\n",
    "from numpy import percentile\n",
    "from numpy.random import seed\n",
    "from sqlalchemy import create_engine\n",
    "import scipy.stats as stats\n",
    "from scipy.stats import zscore\n",
    "from scipy.stats.mstats import winsorize\n",
    "from scipy.stats import jarque_bera\n",
    "from scipy.stats import normaltest\n",
    "from scipy.stats import boxcox\n",
    "import matplotlib.pyplot as plt\n",
    "import warnings\n",
    "import seaborn as sns\n",
    "import warnings\n",
    "\n",
    "warnings.filterwarnings('ignore')"
   ]
  },
  {
   "cell_type": "markdown",
   "metadata": {},
   "source": [
    "## Here we will work with the Students Performance in Exams dataset from Kaggle. "
   ]
  },
  {
   "cell_type": "code",
   "execution_count": 108,
   "metadata": {},
   "outputs": [],
   "source": [
    "postgres_user = 'dsbc_student'\n",
    "postgres_pw = '7*.8G9QH21'\n",
    "postgres_host = '142.93.121.174'\n",
    "postgres_port = '5432'\n",
    "postgres_db = 'studentsperformance'\n",
    "\n",
    "engine = create_engine('postgresql://{}:{}@{}:{}/{}'.format(\n",
    "    postgres_user, postgres_pw, postgres_host, postgres_port, postgres_db))\n",
    "\n",
    "df0 = pd.read_sql_query('select * from studentsperformance', con=engine)\n",
    "\n",
    "# no need for an open connection, \n",
    "# as we're only doing a single query\n",
    "engine.dispose()"
   ]
  },
  {
   "cell_type": "markdown",
   "metadata": {},
   "source": [
    "## Explore the data"
   ]
  },
  {
   "cell_type": "code",
   "execution_count": 109,
   "metadata": {},
   "outputs": [
    {
     "name": "stdout",
     "output_type": "stream",
     "text": [
      "There are 1000 rows and 8 columns\n"
     ]
    }
   ],
   "source": [
    "nRow, nCol = df0.shape\n",
    "print(f'There are {nRow} rows and {nCol} columns')"
   ]
  },
  {
   "cell_type": "code",
   "execution_count": 110,
   "metadata": {},
   "outputs": [
    {
     "data": {
      "text/html": [
       "<div>\n",
       "<style scoped>\n",
       "    .dataframe tbody tr th:only-of-type {\n",
       "        vertical-align: middle;\n",
       "    }\n",
       "\n",
       "    .dataframe tbody tr th {\n",
       "        vertical-align: top;\n",
       "    }\n",
       "\n",
       "    .dataframe thead th {\n",
       "        text-align: right;\n",
       "    }\n",
       "</style>\n",
       "<table border=\"1\" class=\"dataframe\">\n",
       "  <thead>\n",
       "    <tr style=\"text-align: right;\">\n",
       "      <th></th>\n",
       "      <th>gender</th>\n",
       "      <th>race/ethnicity</th>\n",
       "      <th>parental level of education</th>\n",
       "      <th>lunch</th>\n",
       "      <th>test preparation course</th>\n",
       "      <th>math score</th>\n",
       "      <th>reading score</th>\n",
       "      <th>writing score</th>\n",
       "    </tr>\n",
       "  </thead>\n",
       "  <tbody>\n",
       "  </tbody>\n",
       "</table>\n",
       "</div>"
      ],
      "text/plain": [
       "Empty DataFrame\n",
       "Columns: [gender, race/ethnicity, parental level of education, lunch, test preparation course, math score, reading score, writing score]\n",
       "Index: []"
      ]
     },
     "execution_count": 110,
     "metadata": {},
     "output_type": "execute_result"
    }
   ],
   "source": [
    "df0[~np.isfinite(df0['math score'])]"
   ]
  },
  {
   "cell_type": "code",
   "execution_count": 111,
   "metadata": {},
   "outputs": [
    {
     "data": {
      "text/html": [
       "<div>\n",
       "<style scoped>\n",
       "    .dataframe tbody tr th:only-of-type {\n",
       "        vertical-align: middle;\n",
       "    }\n",
       "\n",
       "    .dataframe tbody tr th {\n",
       "        vertical-align: top;\n",
       "    }\n",
       "\n",
       "    .dataframe thead th {\n",
       "        text-align: right;\n",
       "    }\n",
       "</style>\n",
       "<table border=\"1\" class=\"dataframe\">\n",
       "  <thead>\n",
       "    <tr style=\"text-align: right;\">\n",
       "      <th></th>\n",
       "      <th>math score</th>\n",
       "      <th>reading score</th>\n",
       "      <th>writing score</th>\n",
       "    </tr>\n",
       "  </thead>\n",
       "  <tbody>\n",
       "    <tr>\n",
       "      <th>count</th>\n",
       "      <td>1000</td>\n",
       "      <td>1000</td>\n",
       "      <td>1000</td>\n",
       "    </tr>\n",
       "    <tr>\n",
       "      <th>mean</th>\n",
       "      <td>66.089</td>\n",
       "      <td>69.169</td>\n",
       "      <td>68.054</td>\n",
       "    </tr>\n",
       "    <tr>\n",
       "      <th>std</th>\n",
       "      <td>15.1631</td>\n",
       "      <td>14.6002</td>\n",
       "      <td>15.1957</td>\n",
       "    </tr>\n",
       "    <tr>\n",
       "      <th>min</th>\n",
       "      <td>0</td>\n",
       "      <td>17</td>\n",
       "      <td>10</td>\n",
       "    </tr>\n",
       "    <tr>\n",
       "      <th>25%</th>\n",
       "      <td>57</td>\n",
       "      <td>59</td>\n",
       "      <td>57.75</td>\n",
       "    </tr>\n",
       "    <tr>\n",
       "      <th>50%</th>\n",
       "      <td>66</td>\n",
       "      <td>70</td>\n",
       "      <td>69</td>\n",
       "    </tr>\n",
       "    <tr>\n",
       "      <th>75%</th>\n",
       "      <td>77</td>\n",
       "      <td>79</td>\n",
       "      <td>79</td>\n",
       "    </tr>\n",
       "    <tr>\n",
       "      <th>max</th>\n",
       "      <td>100</td>\n",
       "      <td>100</td>\n",
       "      <td>100</td>\n",
       "    </tr>\n",
       "    <tr>\n",
       "      <th>dtype</th>\n",
       "      <td>int64</td>\n",
       "      <td>int64</td>\n",
       "      <td>int64</td>\n",
       "    </tr>\n",
       "    <tr>\n",
       "      <th>size</th>\n",
       "      <td>1000</td>\n",
       "      <td>1000</td>\n",
       "      <td>1000</td>\n",
       "    </tr>\n",
       "    <tr>\n",
       "      <th>% null</th>\n",
       "      <td>0</td>\n",
       "      <td>0</td>\n",
       "      <td>0</td>\n",
       "    </tr>\n",
       "  </tbody>\n",
       "</table>\n",
       "</div>"
      ],
      "text/plain": [
       "       math score reading score writing score\n",
       "count        1000          1000          1000\n",
       "mean       66.089        69.169        68.054\n",
       "std       15.1631       14.6002       15.1957\n",
       "min             0            17            10\n",
       "25%            57            59         57.75\n",
       "50%            66            70            69\n",
       "75%            77            79            79\n",
       "max           100           100           100\n",
       "dtype       int64         int64         int64\n",
       "size         1000          1000          1000\n",
       "% null          0             0             0"
      ]
     },
     "execution_count": 111,
     "metadata": {},
     "output_type": "execute_result"
    }
   ],
   "source": [
    "# Numerical describe\n",
    "df_stat = df0.describe(include = [np.number]) \n",
    "df_stat.loc['dtype'] = df0.dtypes\n",
    "df_stat.loc['size'] = len(df0)\n",
    "df_stat.loc['% null'] = df0.isnull().mean().round(2)\n",
    "df_stat"
   ]
  },
  {
   "cell_type": "code",
   "execution_count": 114,
   "metadata": {},
   "outputs": [
    {
     "data": {
      "text/html": [
       "<div>\n",
       "<style scoped>\n",
       "    .dataframe tbody tr th:only-of-type {\n",
       "        vertical-align: middle;\n",
       "    }\n",
       "\n",
       "    .dataframe tbody tr th {\n",
       "        vertical-align: top;\n",
       "    }\n",
       "\n",
       "    .dataframe thead th {\n",
       "        text-align: right;\n",
       "    }\n",
       "</style>\n",
       "<table border=\"1\" class=\"dataframe\">\n",
       "  <thead>\n",
       "    <tr style=\"text-align: right;\">\n",
       "      <th></th>\n",
       "      <th>gender</th>\n",
       "      <th>race/ethnicity</th>\n",
       "      <th>parental level of education</th>\n",
       "      <th>lunch</th>\n",
       "      <th>test preparation course</th>\n",
       "    </tr>\n",
       "  </thead>\n",
       "  <tbody>\n",
       "    <tr>\n",
       "      <th>count</th>\n",
       "      <td>1000</td>\n",
       "      <td>1000</td>\n",
       "      <td>1000</td>\n",
       "      <td>1000</td>\n",
       "      <td>1000</td>\n",
       "    </tr>\n",
       "    <tr>\n",
       "      <th>unique</th>\n",
       "      <td>2</td>\n",
       "      <td>5</td>\n",
       "      <td>6</td>\n",
       "      <td>2</td>\n",
       "      <td>2</td>\n",
       "    </tr>\n",
       "    <tr>\n",
       "      <th>top</th>\n",
       "      <td>female</td>\n",
       "      <td>group C</td>\n",
       "      <td>some college</td>\n",
       "      <td>standard</td>\n",
       "      <td>none</td>\n",
       "    </tr>\n",
       "    <tr>\n",
       "      <th>freq</th>\n",
       "      <td>518</td>\n",
       "      <td>319</td>\n",
       "      <td>226</td>\n",
       "      <td>645</td>\n",
       "      <td>642</td>\n",
       "    </tr>\n",
       "    <tr>\n",
       "      <th>dtype</th>\n",
       "      <td>object</td>\n",
       "      <td>object</td>\n",
       "      <td>object</td>\n",
       "      <td>object</td>\n",
       "      <td>object</td>\n",
       "    </tr>\n",
       "    <tr>\n",
       "      <th>size</th>\n",
       "      <td>1000</td>\n",
       "      <td>1000</td>\n",
       "      <td>1000</td>\n",
       "      <td>1000</td>\n",
       "      <td>1000</td>\n",
       "    </tr>\n",
       "    <tr>\n",
       "      <th>% null</th>\n",
       "      <td>0</td>\n",
       "      <td>0</td>\n",
       "      <td>0</td>\n",
       "      <td>0</td>\n",
       "      <td>0</td>\n",
       "    </tr>\n",
       "  </tbody>\n",
       "</table>\n",
       "</div>"
      ],
      "text/plain": [
       "        gender race/ethnicity parental level of education     lunch  \\\n",
       "count     1000           1000                        1000      1000   \n",
       "unique       2              5                           6         2   \n",
       "top     female        group C                some college  standard   \n",
       "freq       518            319                         226       645   \n",
       "dtype   object         object                      object    object   \n",
       "size      1000           1000                        1000      1000   \n",
       "% null       0              0                           0         0   \n",
       "\n",
       "       test preparation course  \n",
       "count                     1000  \n",
       "unique                       2  \n",
       "top                       none  \n",
       "freq                       642  \n",
       "dtype                   object  \n",
       "size                      1000  \n",
       "% null                       0  "
      ]
     },
     "execution_count": 114,
     "metadata": {},
     "output_type": "execute_result"
    }
   ],
   "source": [
    "# Non-numerical describe\n",
    "df_stat = df0.describe(include = ['O']) \n",
    "df_stat.loc['dtype'] = df0.dtypes\n",
    "df_stat.loc['size'] = len(df0)\n",
    "df_stat.loc['% null'] = df0.isnull().mean().round(2)\n",
    "df_stat"
   ]
  },
  {
   "cell_type": "code",
   "execution_count": null,
   "metadata": {},
   "outputs": [],
   "source": []
  },
  {
   "cell_type": "markdown",
   "metadata": {},
   "source": [
    "## Explore and fix any outliers"
   ]
  },
  {
   "cell_type": "code",
   "execution_count": 115,
   "metadata": {},
   "outputs": [
    {
     "data": {
      "text/plain": [
       "<function matplotlib.pyplot.show(*args, **kw)>"
      ]
     },
     "execution_count": 115,
     "metadata": {},
     "output_type": "execute_result"
    },
    {
     "data": {
      "image/png": "[encoded data removed]",
      "text/plain": [
       "<Figure size 1440x360 with 3 Axes>"
      ]
     },
     "metadata": {
      "needs_background": "light"
     },
     "output_type": "display_data"
    }
   ],
   "source": [
    "plt.figure(figsize = (20,5))\n",
    "plt.subplot(1,3,1)\n",
    "plt.boxplot(x=df0[\"math score\"])\n",
    "plt.ylabel(\"Count\", size=20)\n",
    "plt.title(\"Math Score Distribution\", size=20)\n",
    "plt.tick_params(axis = 'both', which = 'minor', labelsize = 16)\n",
    "\n",
    "plt.subplot(1,3,2)\n",
    "plt.boxplot(x=df0[\"math score\"])\n",
    "plt.ylabel(\"Count\", size=20)\n",
    "plt.title(\"Reading Score Distribution\", size=20)\n",
    "plt.tick_params(axis = 'both', which = 'minor', labelsize = 16)\n",
    "\n",
    "plt.subplot(1,3,3)\n",
    "plt.boxplot(x=df0[\"math score\"])\n",
    "plt.ylabel(\"Count\", size=20)\n",
    "plt.title(\"Writing Score Distribution\", size=20)\n",
    "plt.tick_params(axis = 'both', which = 'minor', labelsize = 16)\n",
    "\n",
    "plt.show"
   ]
  },
  {
   "cell_type": "markdown",
   "metadata": {},
   "source": [
    "## Basic Summaries"
   ]
  },
  {
   "cell_type": "markdown",
   "metadata": {},
   "source": [
    "#### Quartile: An observed value at a point that aids in splitting the ordered data sample into four equally sized parts. \n",
    "\n",
    "#### Median or 2nd quartile: The middle value in the sample, also called the 50th percentile or the 2nd quartile splits the ordered data sample into two\n",
    "#### 1st and 3rd quartiles split each of median/2nd quartile halves into quarters. \n",
    "#### A percentile is an observed value at a point that aids in splitting the ordered data sample into 100 equally sized portions. Quartiles are often also expressed as percentiles.\n",
    "#### 1st Quartile: The 25th percentile.\n",
    "#### 3rd Quartile: The 75th percentile.\n",
    "#### Minimum: The smallest observation in the sample.\n",
    "#### Maximum: The largest observation in the sample."
   ]
  },
  {
   "cell_type": "code",
   "execution_count": 116,
   "metadata": {},
   "outputs": [
    {
     "name": "stdout",
     "output_type": "stream",
     "text": [
      "Min: 0.000\n",
      "Q1: 57.000\n",
      "Median: 66.000\n",
      "Q3: 77.000\n",
      "Max: 100.000\n"
     ]
    }
   ],
   "source": [
    "q25, q50, q75 = np.percentile(df0[\"math score\"], [25, 50, 75])\n",
    "# calculate min/max\n",
    "data_min, data_max = df0[\"math score\"].min(), df0[\"math score\"].max()\n",
    "\n",
    "\n",
    "print('Min: %.3f' % data_min)\n",
    "print('Q1: %.3f' % q25)\n",
    "print('Median: %.3f' % q50)\n",
    "print('Q3: %.3f' % q75)\n",
    "print('Max: %.3f' % data_max)"
   ]
  },
  {
   "cell_type": "markdown",
   "metadata": {},
   "source": [
    "## Z-score"
   ]
  },
  {
   "cell_type": "markdown",
   "metadata": {},
   "source": [
    "### One statistic used to detect the outliers in a variable is the Z-score. To calculate Z-scores, we will first scale the variable so that its mean is 0 and its standard deviation is 1. Then we can measure how far a value is far away from the mean (0) in terms of standard deviations (1). The bigger the Z-score of a value, the farther it is from the mean, and the more likely it is an outlier. However, we still need to set a threshold for what Z-score constitutes an outlier."
   ]
  },
  {
   "cell_type": "code",
   "execution_count": 117,
   "metadata": {},
   "outputs": [
    {
     "name": "stdout",
     "output_type": "stream",
     "text": [
      "The score threshold is: 1\n",
      "The indices of the outliers:\n",
      "(array([  2,   6,  16,  34,  49,  53,  56, 102, 104, 106, 114, 115, 121,\n",
      "       122, 124, 125, 128, 130, 132, 144, 146, 149, 160, 165, 171, 179,\n",
      "       206, 214, 215, 216, 221, 223, 229, 233, 234, 239, 245, 246, 263,\n",
      "       268, 274, 275, 276, 286, 288, 291, 299, 306, 317, 325, 328, 333,\n",
      "       334, 349, 361, 370, 373, 377, 381, 397, 403, 407, 409, 411, 415,\n",
      "       420, 426, 439, 447, 451, 458, 465, 469, 470, 474, 492, 501, 503,\n",
      "       505, 509, 521, 538, 539, 543, 546, 551, 563, 567, 572, 595, 605,\n",
      "       607, 613, 615, 618, 619, 624, 626, 635, 638, 652, 659, 685, 686,\n",
      "       689, 702, 708, 710, 712, 717, 719, 732, 736, 749, 755, 779, 784,\n",
      "       793, 802, 803, 808, 813, 815, 820, 845, 846, 852, 853, 855, 859,\n",
      "       864, 865, 872, 873, 886, 890, 891, 893, 900, 903, 905, 916, 919,\n",
      "       934, 938, 946, 950, 956, 957, 962, 970, 979, 990, 995], dtype=int64),)\n",
      "Number of outliers is: 154\n",
      "The score threshold is: 2\n",
      "The indices of the outliers:\n",
      "(array([ 34, 104, 114, 149, 179, 263, 286, 306, 451, 458, 539, 624, 626,\n",
      "       712, 855, 864, 916, 934, 962], dtype=int64),)\n",
      "Number of outliers is: 19\n",
      "The score threshold is: 3\n",
      "The indices of the outliers:\n",
      "(array([], dtype=int64),)\n",
      "Number of outliers is: 0\n",
      "The score threshold is: 4\n",
      "The indices of the outliers:\n",
      "(array([], dtype=int64),)\n",
      "Number of outliers is: 0\n"
     ]
    }
   ],
   "source": [
    "z_scores = zscore(df0[\"math score\"])\n",
    "for threshold in range(1,5):\n",
    "    print(\"The score threshold is: {}\".format(threshold))\n",
    "    print(\"The indices of the outliers:\")\n",
    "    print(np.where(z_scores > threshold))\n",
    "    print(\"Number of outliers is: {}\".format(len((np.where(z_scores > threshold)[0]))))"
   ]
  },
  {
   "cell_type": "markdown",
   "metadata": {},
   "source": [
    "## Scores distribution"
   ]
  },
  {
   "cell_type": "code",
   "execution_count": 118,
   "metadata": {},
   "outputs": [
    {
     "data": {
      "text/plain": [
       "<function matplotlib.pyplot.show(*args, **kw)>"
      ]
     },
     "execution_count": 118,
     "metadata": {},
     "output_type": "execute_result"
    },
    {
     "data": {
      "image/png": "[encoded data removed]",
      "text/plain": [
       "<Figure size 1440x360 with 3 Axes>"
      ]
     },
     "metadata": {
      "needs_background": "light"
     },
     "output_type": "display_data"
    }
   ],
   "source": [
    "plt.figure(figsize = (20,5))\n",
    "\n",
    "plt.subplot(1,3,1)\n",
    "p = sns.countplot(x=\"math score\", data = df0, palette=\"muted\")\n",
    "_ = plt.setp(p.get_xticklabels(), rotation=90) \n",
    "plt.xlabel(\"Math Score\", size=20)\n",
    "plt.ylabel(\"Count\", size=20)\n",
    "plt.title(\"Math Score Distribution\", size=20)\n",
    "plt.tick_params(axis = 'both', which = 'minor', labelsize = 16)\n",
    "\n",
    "plt.subplot(1,3,2)\n",
    "p = sns.countplot(x=\"reading score\", data = df0, palette=\"muted\")\n",
    "_ = plt.setp(p.get_xticklabels(), rotation=90) \n",
    "plt.xlabel(\"Reading Score\", size=20)\n",
    "plt.ylabel(\"Count\", size=20)\n",
    "plt.title(\"Reading Score Distribution\", size=20)\n",
    "plt.tick_params(axis = 'both', which = 'minor', labelsize = 16)\n",
    "\n",
    "plt.subplot(1,3,3)\n",
    "p = sns.countplot(x=\"writing score\", data = df0, palette=\"muted\")\n",
    "_ = plt.setp(p.get_xticklabels(), rotation=90) \n",
    "plt.xlabel(\"Writining Score\", size=20)\n",
    "plt.ylabel(\"Count\", size=20)\n",
    "plt.title(\"Writing Score Distribution\", size=20)\n",
    "plt.tick_params(axis = 'both', which = 'minor', labelsize = 16)\n",
    "\n",
    "plt.show"
   ]
  },
  {
   "cell_type": "markdown",
   "metadata": {},
   "source": [
    "## The histograms above resemble the normal distribution but not quite normally distribted. "
   ]
  },
  {
   "cell_type": "markdown",
   "metadata": {},
   "source": [
    "## Look at the same distributions transformed with the log"
   ]
  },
  {
   "cell_type": "code",
   "execution_count": 119,
   "metadata": {},
   "outputs": [
    {
     "data": {
      "image/png": "[encoded data removed]",
      "text/plain": [
       "<Figure size 1440x360 with 3 Axes>"
      ]
     },
     "metadata": {
      "needs_background": "light"
     },
     "output_type": "display_data"
    }
   ],
   "source": [
    "plt.figure(figsize = (20,5))\n",
    "\n",
    "plt.subplot(1,3,1)\n",
    "plt.hist(np.log(df0[df0[\"math score\"] != 0]['math score']))\n",
    "_ = plt.setp(p.get_xticklabels(), rotation=90) \n",
    "plt.xlabel(\"Math Score\", size=20)\n",
    "plt.ylabel(\"Count\", size=20)\n",
    "plt.title(\"Math Score Distribution\", size=20)\n",
    "plt.tick_params(axis = 'both', which = 'minor', labelsize = 16)\n",
    "\n",
    "plt.subplot(1,3,2)\n",
    "plt.hist(np.log(df0[df0[\"reading score\"] != 0]['reading score']))\n",
    "_ = plt.setp(p.get_xticklabels(), rotation=90) \n",
    "plt.xlabel(\"Reading Score\", size=20)\n",
    "plt.ylabel(\"Count\", size=20)\n",
    "plt.title(\"Reading Score Distribution\", size=20)\n",
    "plt.tick_params(axis = 'both', which = 'minor', labelsize = 16)\n",
    "\n",
    "plt.subplot(1,3,3)\n",
    "plt.hist(np.log(df0[df0[\"writing score\"] != 0]['writing score']))\n",
    "_ = plt.setp(p.get_xticklabels(), rotation=90) \n",
    "plt.xlabel(\"Writing Score\", size=20)\n",
    "plt.ylabel(\"Count\", size=20)\n",
    "plt.title(\"Writing Score Distribution\", size=20)\n",
    "plt.tick_params(axis = 'both', which = 'minor', labelsize = 16)\n",
    "\n",
    "# plt.show"
   ]
  },
  {
   "cell_type": "markdown",
   "metadata": {},
   "source": [
    "# 1. Are the exam score variables normally distributed? If not, apply a Box-Cox transformation. Does anything change?"
   ]
  },
  {
   "cell_type": "markdown",
   "metadata": {},
   "source": [
    "## Use Jarque-Bera and Normal test "
   ]
  },
  {
   "cell_type": "code",
   "execution_count": 120,
   "metadata": {},
   "outputs": [
    {
     "name": "stdout",
     "output_type": "stream",
     "text": [
      "Jarque-Bera test statistics is 1733.5739738520158 and p value is 0.0\n",
      "Normality test statistics is 335.09113813231846 and p value is 1.7214082785301018e-73\n",
      "--------------------------------\n",
      "Jarque-Bera test statistics is 495.1273179446674 and p value is 0.0\n",
      "Normality test statistics is 209.7715093472919 and p value is 2.8099300901335873e-46\n",
      "--------------------------------\n",
      "Jarque-Bera test statistics is 1410.937006925743 and p value is 0.0\n",
      "Normality test statistics is 318.9692123027676 and p value is 5.454005856377552e-70\n"
     ]
    }
   ],
   "source": [
    "# To avoid log error for zero values we filter those aways \n",
    "jb_stats = jarque_bera(np.log(df0[df0[\"math score\"] != 0]['math score']))\n",
    "norm_stats = normaltest(np.log(df0[df0[\"math score\"] != 0]['math score']))\n",
    "print(\"Jarque-Bera test statistics is {0} and p value is {1}\".format(jb_stats[0], jb_stats[1]))\n",
    "print(\"Normality test statistics is {0} and p value is {1}\".format(norm_stats[0], norm_stats[1]))\n",
    "print('--------------------------------')\n",
    "jb_stats = jarque_bera(np.log(df0[\"reading score\"]))\n",
    "norm_stats = normaltest(np.log(df0[\"reading score\"]))\n",
    "print(\"Jarque-Bera test statistics is {0} and p value is {1}\".format(jb_stats[0], jb_stats[1]))\n",
    "print(\"Normality test statistics is {0} and p value is {1}\".format(norm_stats[0], norm_stats[1]))\n",
    "print('--------------------------------')\n",
    "jb_stats = jarque_bera(np.log(df0[\"writing score\"]))\n",
    "norm_stats = normaltest(np.log(df0[\"writing score\"]))\n",
    "print(\"Jarque-Bera test statistics is {0} and p value is {1}\".format(jb_stats[0], jb_stats[1]))\n",
    "print(\"Normality test statistics is {0} and p value is {1}\".format(norm_stats[0], norm_stats[1]))"
   ]
  },
  {
   "cell_type": "markdown",
   "metadata": {},
   "source": [
    "### The p-values are 0 which indicates that the distribution of the log transformed variables is statistically different from the normal distribution. However, these transformations might still be useful. In general, we prefer to work with 2 tails distributions that \"look\" normal with values clustered around the mean."
   ]
  },
  {
   "cell_type": "code",
   "execution_count": null,
   "metadata": {},
   "outputs": [],
   "source": []
  },
  {
   "cell_type": "markdown",
   "metadata": {},
   "source": [
    "## We will use Box-Cox transformation for making these scores normally distributed."
   ]
  },
  {
   "cell_type": "code",
   "execution_count": 121,
   "metadata": {},
   "outputs": [
    {
     "data": {
      "image/png": "[encoded data removed]",
      "text/plain": [
       "<Figure size 1296x360 with 3 Axes>"
      ]
     },
     "metadata": {
      "needs_background": "light"
     },
     "output_type": "display_data"
    }
   ],
   "source": [
    "math_boxcox,_ = boxcox(df0[df0['math score']>0]['math score'])\n",
    "reading_boxcox,_ = boxcox(df0[\"reading score\"])\n",
    "writing_boxcox,_ = boxcox(df0[\"writing score\"])\n",
    "\n",
    "plt.figure(figsize=(18,5))\n",
    "\n",
    "# histograms of the box-cox transformed data\n",
    "plt.subplot(1, 3, 1)\n",
    "plt.hist(math_boxcox)\n",
    "plt.title(\"histogram of math scores (box-cox transformed)\")\n",
    "plt.subplot(1, 3, 2)\n",
    "plt.hist(reading_boxcox)\n",
    "plt.title(\"histogram of reading scores (box-cox transformed)\")\n",
    "plt.subplot(1, 3, 3)\n",
    "plt.hist(writing_boxcox)\n",
    "plt.title(\"histogram of writing scores (box-cox transformed)\")\n",
    "plt.show()"
   ]
  },
  {
   "cell_type": "markdown",
   "metadata": {},
   "source": [
    "## After using Box-Cox normalization we can use Jarque Bera to test if they are now normal"
   ]
  },
  {
   "cell_type": "code",
   "execution_count": 122,
   "metadata": {},
   "outputs": [
    {
     "name": "stdout",
     "output_type": "stream",
     "text": [
      "Jarque-Bera test statistics is 1.7200982636836308 and p value is 0.42314129209599327\n",
      "--------------------------------\n",
      "Jarque-Bera test statistics is 4.119778573559666 and p value is 0.127468081515408\n",
      "--------------------------------\n",
      "Jarque-Bera test statistics is 4.746478090042761 and p value is 0.09317842784043195\n"
     ]
    }
   ],
   "source": [
    "# To avoid log error for zero values we filter those aways \n",
    "jb_stats = jarque_bera(math_boxcox)\n",
    "print(\"Jarque-Bera test statistics is {0} and p value is {1}\".format(jb_stats[0], jb_stats[1]))\n",
    "print('--------------------------------')\n",
    "jb_stats = jarque_bera(reading_boxcox)\n",
    "print(\"Jarque-Bera test statistics is {0} and p value is {1}\".format(jb_stats[0], jb_stats[1]))\n",
    "print('--------------------------------')\n",
    "jb_stats = jarque_bera(writing_boxcox)\n",
    "print(\"Jarque-Bera test statistics is {0} and p value is {1}\".format(jb_stats[0], jb_stats[1]))\n"
   ]
  },
  {
   "cell_type": "markdown",
   "metadata": {},
   "source": [
    "### The p-values are larger than 5% which indicates that these distribution are statistically not different from the normal distribution. "
   ]
  },
  {
   "cell_type": "code",
   "execution_count": null,
   "metadata": {},
   "outputs": [],
   "source": []
  },
  {
   "cell_type": "markdown",
   "metadata": {},
   "source": [
    "# 2. Say we want to use a single variable for the exam scores as our target. For this purpose, create a new variable by taking a weighted average of the exam scores. Check whether this new variable is normally distributed. If it's not normally distributed, apply a Box-Cox transformation and check whether or not the transformed variable is normally distributed."
   ]
  },
  {
   "cell_type": "code",
   "execution_count": 123,
   "metadata": {},
   "outputs": [],
   "source": [
    "df0['weighted average'] = (df0['math score'] + df0['reading score'] + df0['writing score']) / 3"
   ]
  },
  {
   "cell_type": "code",
   "execution_count": 124,
   "metadata": {},
   "outputs": [
    {
     "data": {
      "image/png": "[encoded data removed]",
      "text/plain": [
       "<Figure size 1080x720 with 1 Axes>"
      ]
     },
     "metadata": {
      "needs_background": "light"
     },
     "output_type": "display_data"
    }
   ],
   "source": [
    "plt.figure(figsize=(15,10))\n",
    "plt.hist(df0['weighted average'])\n",
    "plt.title(\"histogram of weighted average scores\")\n",
    "plt.show()"
   ]
  },
  {
   "cell_type": "code",
   "execution_count": 125,
   "metadata": {},
   "outputs": [
    {
     "name": "stdout",
     "output_type": "stream",
     "text": [
      "Jarque-Bera test statistics is 15.453387913085168 and p value is 0.00044089934264401887\n",
      "--------------------------------\n"
     ]
    }
   ],
   "source": [
    "jb_stats = jarque_bera(df0['weighted average'])\n",
    "print(\"Jarque-Bera test statistics is {0} and p value is {1}\".format(jb_stats[0], jb_stats[1]))\n",
    "print('--------------------------------')\n"
   ]
  },
  {
   "cell_type": "markdown",
   "metadata": {},
   "source": [
    "### The weighted average score is not normally distributed and will use Box-Cox to make it normally distributed"
   ]
  },
  {
   "cell_type": "code",
   "execution_count": 126,
   "metadata": {},
   "outputs": [
    {
     "data": {
      "image/png": "[encoded data removed]",
      "text/plain": [
       "<Figure size 1080x720 with 1 Axes>"
      ]
     },
     "metadata": {
      "needs_background": "light"
     },
     "output_type": "display_data"
    }
   ],
   "source": [
    "weighted_average_boxcox,_ = boxcox(df0['weighted average'])\n",
    "plt.figure(figsize=(15,10))\n",
    "# histograms of the box-cox transformed data\n",
    "plt.hist(weighted_average_boxcox)\n",
    "plt.title(\"histogram of weighted average scores (box-cox transformed)\")\n",
    "plt.show()"
   ]
  },
  {
   "cell_type": "code",
   "execution_count": null,
   "metadata": {},
   "outputs": [],
   "source": []
  },
  {
   "cell_type": "code",
   "execution_count": 127,
   "metadata": {},
   "outputs": [
    {
     "data": {
      "image/png": "[encoded data removed]",
      "text/plain": [
       "<Figure size 1080x720 with 1 Axes>"
      ]
     },
     "metadata": {
      "needs_background": "light"
     },
     "output_type": "display_data"
    }
   ],
   "source": [
    "plt.figure(figsize=(15,10))\n",
    "plt.hist(df0['weighted average'],bins=30,label='weighted average score')\n",
    "plt.hist(weighted_average_boxcox,bins=30,alpha=0.3,color='blue',label='Box Cox weighted average score ')\n",
    "plt.legend()\n",
    "plt.xlabel('Weighted Average Score', size=20)\n",
    "plt.ylabel('Counts', size=20)\n",
    "plt.title(\"Reading Score vs. Test Preparation Course: None or Completed\", size=20)\n",
    "plt.show()"
   ]
  },
  {
   "cell_type": "markdown",
   "metadata": {},
   "source": [
    "# Which variables seem related to the target variable (the newly created variable in the previous question)? If our goal is to explain the determinants of success in exams, which variables in our dataset might be useful?"
   ]
  },
  {
   "cell_type": "code",
   "execution_count": 134,
   "metadata": {},
   "outputs": [],
   "source": [
    "df0['weighted_average_boxcox'] = weighted_average_boxcox.tolist()"
   ]
  },
  {
   "cell_type": "code",
   "execution_count": 136,
   "metadata": {},
   "outputs": [
    {
     "data": {
      "text/html": [
       "<div>\n",
       "<style scoped>\n",
       "    .dataframe tbody tr th:only-of-type {\n",
       "        vertical-align: middle;\n",
       "    }\n",
       "\n",
       "    .dataframe tbody tr th {\n",
       "        vertical-align: top;\n",
       "    }\n",
       "\n",
       "    .dataframe thead th {\n",
       "        text-align: right;\n",
       "    }\n",
       "</style>\n",
       "<table border=\"1\" class=\"dataframe\">\n",
       "  <thead>\n",
       "    <tr style=\"text-align: right;\">\n",
       "      <th></th>\n",
       "      <th>gender</th>\n",
       "      <th>race/ethnicity</th>\n",
       "      <th>parental level of education</th>\n",
       "      <th>lunch</th>\n",
       "      <th>test preparation course</th>\n",
       "      <th>math score</th>\n",
       "      <th>reading score</th>\n",
       "      <th>writing score</th>\n",
       "      <th>weighted average</th>\n",
       "      <th>weighted_average_boxcox</th>\n",
       "    </tr>\n",
       "  </thead>\n",
       "  <tbody>\n",
       "    <tr>\n",
       "      <th>0</th>\n",
       "      <td>female</td>\n",
       "      <td>group B</td>\n",
       "      <td>bachelor's degree</td>\n",
       "      <td>standard</td>\n",
       "      <td>none</td>\n",
       "      <td>72</td>\n",
       "      <td>72</td>\n",
       "      <td>74</td>\n",
       "      <td>72.666667</td>\n",
       "      <td>296.595217</td>\n",
       "    </tr>\n",
       "    <tr>\n",
       "      <th>1</th>\n",
       "      <td>female</td>\n",
       "      <td>group C</td>\n",
       "      <td>some college</td>\n",
       "      <td>standard</td>\n",
       "      <td>completed</td>\n",
       "      <td>69</td>\n",
       "      <td>90</td>\n",
       "      <td>88</td>\n",
       "      <td>82.333333</td>\n",
       "      <td>353.784556</td>\n",
       "    </tr>\n",
       "    <tr>\n",
       "      <th>2</th>\n",
       "      <td>female</td>\n",
       "      <td>group B</td>\n",
       "      <td>master's degree</td>\n",
       "      <td>standard</td>\n",
       "      <td>none</td>\n",
       "      <td>90</td>\n",
       "      <td>95</td>\n",
       "      <td>93</td>\n",
       "      <td>92.666667</td>\n",
       "      <td>418.027507</td>\n",
       "    </tr>\n",
       "  </tbody>\n",
       "</table>\n",
       "</div>"
      ],
      "text/plain": [
       "   gender race/ethnicity parental level of education     lunch  \\\n",
       "0  female        group B           bachelor's degree  standard   \n",
       "1  female        group C                some college  standard   \n",
       "2  female        group B             master's degree  standard   \n",
       "\n",
       "  test preparation course  math score  reading score  writing score  \\\n",
       "0                    none          72             72             74   \n",
       "1               completed          69             90             88   \n",
       "2                    none          90             95             93   \n",
       "\n",
       "   weighted average  weighted_average_boxcox  \n",
       "0         72.666667               296.595217  \n",
       "1         82.333333               353.784556  \n",
       "2         92.666667               418.027507  "
      ]
     },
     "execution_count": 136,
     "metadata": {},
     "output_type": "execute_result"
    }
   ],
   "source": [
    "df0.head(3)"
   ]
  },
  {
   "cell_type": "code",
   "execution_count": 128,
   "metadata": {},
   "outputs": [
    {
     "data": {
      "image/png": "[encoded data removed]",
      "text/plain": [
       "<Figure size 1080x720 with 2 Axes>"
      ]
     },
     "metadata": {
      "needs_background": "light"
     },
     "output_type": "display_data"
    }
   ],
   "source": [
    "# make the correlation matrices.\n",
    "corrmat_scores = df0.corr()\n",
    "\n",
    "# heatmaps are a great way to get \n",
    "# a quick visual read on a big correlation matrix.\n",
    "\n",
    "plt.figure(figsize=(15,10))\n",
    "# draw the heatmap using seaborn.\n",
    "sns.heatmap(corrmat_scores, square=True, annot=True, linewidths=.5) #, label='small')\n",
    "plt.title(\"correlation matrix\", size=20)\n",
    "plt.show()"
   ]
  },
  {
   "cell_type": "markdown",
   "metadata": {},
   "source": [
    "## Weighted average has highest correlation "
   ]
  },
  {
   "cell_type": "code",
   "execution_count": 143,
   "metadata": {},
   "outputs": [
    {
     "name": "stdout",
     "output_type": "stream",
     "text": [
      "------------------------------------------------\n",
      "Comparisons for variable: weighted_average_boxcox\n",
      "------------------------------------------------\n",
      "t-test between bachelor's degree and some college:\n",
      "Ttest_indResult(statistic=2.2325355561613427, pvalue=0.02622648688454221)\n",
      "t-test between bachelor's degree and master's degree:\n",
      "Ttest_indResult(statistic=-0.7470650763380539, pvalue=0.45602683982004644)\n",
      "t-test between bachelor's degree and associate's degree:\n",
      "Ttest_indResult(statistic=1.5181180271993509, pvalue=0.12991940648498326)\n",
      "t-test between bachelor's degree and high school:\n",
      "Ttest_indResult(statistic=5.639088505904971, pvalue=3.831267453960282e-08)\n",
      "t-test between bachelor's degree and some high school:\n",
      "Ttest_indResult(statistic=3.9604314901094235, pvalue=9.385411410507653e-05)\n",
      "t-test between some college and master's degree:\n",
      "Ttest_indResult(statistic=-2.6018995284895596, pvalue=0.009758876213380714)\n",
      "t-test between some college and associate's degree:\n",
      "Ttest_indResult(statistic=-0.8423039543903159, pvalue=0.40006928072768244)\n",
      "t-test between some college and high school:\n",
      "Ttest_indResult(statistic=4.116094816752006, pvalue=4.6401197090436465e-05)\n",
      "t-test between some college and some high school:\n",
      "Ttest_indResult(statistic=2.3133255218714583, pvalue=0.02120736634555691)\n",
      "t-test between master's degree and associate's degree:\n",
      "Ttest_indResult(statistic=2.0267116111915153, pvalue=0.04364288321317862)\n",
      "t-test between master's degree and high school:\n",
      "Ttest_indResult(statistic=5.382042087332287, pvalue=1.6791993716684894e-07)\n",
      "t-test between master's degree and some high school:\n",
      "Ttest_indResult(statistic=3.9324390817538344, pvalue=0.00011057399744177466)\n",
      "t-test between associate's degree and high school:\n",
      "Ttest_indResult(statistic=4.892511249353038, pvalue=1.4258299938906662e-06)\n",
      "t-test between associate's degree and some high school:\n",
      "Ttest_indResult(statistic=3.055907601722724, pvalue=0.002394607847045481)\n",
      "t-test between high school and some high school:\n",
      "Ttest_indResult(statistic=-1.4994780956805696, pvalue=0.1345955325404415)\n"
     ]
    }
   ],
   "source": [
    "# Test whether group differences are significant.\n",
    "categories = df0[\"parental level of education\"].unique()\n",
    "grouped_df = df0.groupby(\"parental level of education\")\n",
    "for var in [\"weighted_average_boxcox\"]:\n",
    "    print(\"------------------------------------------------\")\n",
    "    print(\"Comparisons for variable: {}\".format(var))\n",
    "    print(\"------------------------------------------------\")\n",
    "    for i in range(0, len(categories)):\n",
    "        for j in range(i+1, len(categories)):\n",
    "            print(\"t-test between {0} and {1}:\".format(categories[i], categories[j]))\n",
    "            print(stats.ttest_ind(\n",
    "                df0[df0[\"parental level of education\"]==categories[i]][var], \n",
    "                df0[df0[\"parental level of education\"]==categories[j]][var]\n",
    "            ))"
   ]
  },
  {
   "cell_type": "code",
   "execution_count": 142,
   "metadata": {},
   "outputs": [
    {
     "name": "stdout",
     "output_type": "stream",
     "text": [
      "------------------------------------------------\n",
      "Comparisons for variable: weighted_average_boxcox\n",
      "------------------------------------------------\n",
      "t-test between female and male:\n",
      "Ttest_indResult(statistic=4.316845509684089, pvalue=1.74048262157193e-05)\n"
     ]
    }
   ],
   "source": [
    "# Test whether group differences are significant.\n",
    "categories = df0[\"gender\"].unique()\n",
    "grouped_df = df0.groupby(\"gender\")\n",
    "for var in [\"weighted_average_boxcox\"]:\n",
    "    print(\"------------------------------------------------\")\n",
    "    print(\"Comparisons for variable: {}\".format(var))\n",
    "    print(\"------------------------------------------------\")\n",
    "    for i in range(0, len(categories)):\n",
    "        for j in range(i+1, len(categories)):\n",
    "            print(\"t-test between {0} and {1}:\".format(categories[i], categories[j]))\n",
    "            print(stats.ttest_ind(\n",
    "                df0[df0[\"gender\"]==categories[i]][var], \n",
    "                df0[df0[\"gender\"]==categories[j]][var]\n",
    "            ))"
   ]
  },
  {
   "cell_type": "code",
   "execution_count": 141,
   "metadata": {},
   "outputs": [
    {
     "name": "stdout",
     "output_type": "stream",
     "text": [
      "------------------------------------------------\n",
      "Comparisons for variable: weighted_average_boxcox\n",
      "------------------------------------------------\n",
      "t-test between standard and free/reduced:\n",
      "Ttest_indResult(statistic=9.472553929697188, pvalue=1.912528261943329e-20)\n"
     ]
    }
   ],
   "source": [
    "# Test whether group differences are significant.\n",
    "categories = df0[\"lunch\"].unique()\n",
    "grouped_df = df0.groupby(\"lunch\")\n",
    "for var in [\"weighted_average_boxcox\"]:\n",
    "    print(\"------------------------------------------------\")\n",
    "    print(\"Comparisons for variable: {}\".format(var))\n",
    "    print(\"------------------------------------------------\")\n",
    "    for i in range(0, len(categories)):\n",
    "        for j in range(i+1, len(categories)):\n",
    "            print(\"t-test between {0} and {1}:\".format(categories[i], categories[j]))\n",
    "            print(stats.ttest_ind(\n",
    "                df0[df0[\"lunch\"]==categories[i]][var], \n",
    "                df0[df0[\"lunch\"]==categories[j]][var]\n",
    "            ))"
   ]
  },
  {
   "cell_type": "code",
   "execution_count": 140,
   "metadata": {},
   "outputs": [
    {
     "name": "stdout",
     "output_type": "stream",
     "text": [
      "------------------------------------------------\n",
      "Comparisons for variable: weighted_average_boxcox\n",
      "------------------------------------------------\n",
      "t-test between none and completed:\n",
      "Ttest_indResult(statistic=-8.439033139502564, pvalue=1.1138872313352914e-16)\n"
     ]
    }
   ],
   "source": [
    "# Test whether group differences are significant.\n",
    "categories = df0[\"test preparation course\"].unique()\n",
    "grouped_df = df0.groupby(\"test preparation course\")\n",
    "for var in [\"weighted_average_boxcox\"]:\n",
    "    print(\"------------------------------------------------\")\n",
    "    print(\"Comparisons for variable: {}\".format(var))\n",
    "    print(\"------------------------------------------------\")\n",
    "    for i in range(0, len(categories)):\n",
    "        for j in range(i+1, len(categories)):\n",
    "            print(\"t-test between {0} and {1}:\".format(categories[i], categories[j]))\n",
    "            print(stats.ttest_ind(\n",
    "                df0[df0[\"test preparation course\"]==categories[i]][var], \n",
    "                df0[df0[\"test preparation course\"]==categories[j]][var]\n",
    "            ))"
   ]
  },
  {
   "cell_type": "markdown",
   "metadata": {},
   "source": [
    "### In order to explain the determinants of success in exams we can use variables such as lunch, gender, test preparation course and parental level of educations. Ethnicity seems to be the least helpful determinant."
   ]
  },
  {
   "cell_type": "code",
   "execution_count": null,
   "metadata": {},
   "outputs": [],
   "source": []
  }
 ],
 "metadata": {
  "kernelspec": {
   "display_name": "Python 3",
   "language": "python",
   "name": "python3"
  },
  "language_info": {
   "codemirror_mode": {
    "name": "ipython",
    "version": 3
   },
   "file_extension": ".py",
   "mimetype": "text/x-python",
   "name": "python",
   "nbconvert_exporter": "python",
   "pygments_lexer": "ipython3",
   "version": "3.7.7"
  }
 },
 "nbformat": 4,
 "nbformat_minor": 4
}
